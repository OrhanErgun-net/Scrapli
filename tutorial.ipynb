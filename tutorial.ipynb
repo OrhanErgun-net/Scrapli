{
 "cells": [
  {
   "cell_type": "code",
   "execution_count": null,
   "metadata": {},
   "outputs": [],
   "source": [
    "# Basic connection\n",
    "from scrapli import Scrapli\n",
    "\n",
    "device = {\n",
    "   \"host\": \"10.10.20.48\",\n",
    "   \"auth_username\": \"developer\",\n",
    "   \"auth_password\": \"C1sco12345\",\n",
    "   \"auth_strict_key\": False,\n",
    "   \"platform\": \"cisco_iosxe\"\n",
    "}\n",
    "\n",
    "conn = Scrapli(**device)\n",
    "conn.open()\n",
    "print(conn.get_prompt())"
   ]
  },
  {
   "cell_type": "code",
   "execution_count": null,
   "metadata": {},
   "outputs": [],
   "source": [
    "conn.close()"
   ]
  },
  {
   "cell_type": "code",
   "execution_count": null,
   "metadata": {},
   "outputs": [],
   "source": [
    "print(conn.send_command(\"show version\"))"
   ]
  },
  {
   "cell_type": "code",
   "execution_count": null,
   "metadata": {},
   "outputs": [],
   "source": [
    "# Seeing the commands sent\n",
    "sh_ver = conn.send_command(\"show version\")\n",
    "print(sh_ver.result)"
   ]
  },
  {
   "cell_type": "code",
   "execution_count": null,
   "metadata": {},
   "outputs": [],
   "source": [
    "# Using context manager\n",
    "with Scrapli(**device) as conn:\n",
    "   result = conn.send_command(\"show run\")\n",
    "   print(result.result)"
   ]
  },
  {
   "cell_type": "code",
   "execution_count": null,
   "metadata": {},
   "outputs": [],
   "source": [
    "# Using driver\n",
    "from scrapli.driver.core import IOSXEDriver\n",
    "\n",
    "with IOSXEDriver(**device) as conn:\n",
    "    result = conn.send_command(\"show run\")\n",
    "    print(result.result)"
   ]
  },
  {
   "cell_type": "code",
   "execution_count": null,
   "metadata": {},
   "outputs": [],
   "source": [
    "# Use GenericDriver for non-core platforms\n",
    "# Use Driver as the last resort"
   ]
  },
  {
   "cell_type": "code",
   "execution_count": null,
   "metadata": {},
   "outputs": [],
   "source": [
    "# Parsing with Genie\n",
    "from pprint import pprint\n",
    "response = conn.send_command(\"show version\")\n",
    "pprint(response.genie_parse_output())"
   ]
  },
  {
   "cell_type": "code",
   "execution_count": null,
   "metadata": {},
   "outputs": [],
   "source": [
    "# Parsing with TextFSM\n",
    "pprint(response.textfsm_parse_output())"
   ]
  },
  {
   "cell_type": "code",
   "execution_count": null,
   "metadata": {},
   "outputs": [],
   "source": [
    "# ssh config file \n",
    "from scrapli.driver.core import IOSXEDriver\n",
    "\n",
    "my_device = {\n",
    "    \"host\": \"10.10.20.48\",\n",
    "    \"auth_username\": \"developer\",\n",
    "    \"auth_password\": \"C1sco12345\",\n",
    "    \"auth_strict_key\": False,\n",
    "    \"ssh_config_file\": \"~/.ssh/config\",\n",
    "}\n",
    "\n",
    "with IOSXEDriver(**my_device) as conn:\n",
    "    print(conn.get_prompt())"
   ]
  },
  {
   "cell_type": "code",
   "execution_count": null,
   "metadata": {},
   "outputs": [],
   "source": [
    "# Sending configuration commands\n",
    "with Scrapli(**device) as conn:\n",
    "   config_commands = [\n",
    "        \"interface Loopback0\",\n",
    "        \"description Created with Scrapli\",\n",
    "        \"ip address 1.1.1.1 255.255.255.255\",\n",
    "    ]\n",
    "\n",
    "   result = conn.send_configs(config_commands)\n",
    "\n",
    "print(result.result)\n",
    "print(\"Interface Loopback0 created successfully!\")"
   ]
  },
  {
   "cell_type": "code",
   "execution_count": null,
   "metadata": {},
   "outputs": [],
   "source": [
    "# Privilege levels\n",
    "with IOSXEDriver(**my_device) as conn:\n",
    "    conn.acquire_priv(\"exec\")\n",
    "    # conn.acquire_priv(\"privilege_exec\")\n",
    "    # conn.acquire_priv(\"configuration\")"
   ]
  },
  {
   "cell_type": "code",
   "execution_count": null,
   "metadata": {},
   "outputs": [],
   "source": [
    "# Use send_config for single command\n",
    "conn.send_config(\"int loopback 100\")"
   ]
  },
  {
   "cell_type": "code",
   "execution_count": null,
   "metadata": {},
   "outputs": [],
   "source": [
    "# Handling prompts\n",
    "with IOSXEDriver(**device) as conn:\n",
    "    interactive = conn.send_interactive(\n",
    "            [(\"copy run start\", \"Destination filename [startup-config]?\", \"\\n\")],\n",
    "    )\n",
    "    print(interactive.result)"
   ]
  },
  {
   "cell_type": "code",
   "execution_count": null,
   "metadata": {},
   "outputs": [],
   "source": [
    "# The 'On Open' feature\n",
    "from scrapli.driver.core import IOSXEDriver\n",
    "\n",
    "def config_mode(conn):\n",
    "    response = conn.channel.send_input(\"conf t\")\n",
    "\n",
    "my_device = {\n",
    "    \"host\": \"10.10.20.48\",\n",
    "    \"auth_username\": \"developer\",\n",
    "    \"auth_password\": \"C1sco12345\",\n",
    "    \"auth_strict_key\": False,\n",
    "    \"on_open\": config_mode\n",
    "}\n",
    "\n",
    "with IOSXEDriver(**my_device) as conn:\n",
    "    print(conn.get_prompt())"
   ]
  },
  {
   "cell_type": "code",
   "execution_count": null,
   "metadata": {},
   "outputs": [],
   "source": [
    "# The 'On Close' feature\n",
    "from scrapli.driver.core import IOSXEDriver\n",
    "\n",
    "def show_int(conn):\n",
    "    response = conn.channel.send_input(\"sh ip int br\")\n",
    "\n",
    "my_device = {\n",
    "    \"host\": \"10.10.20.48\",\n",
    "    \"auth_username\": \"developer\",\n",
    "    \"auth_password\": \"C1sco12345\",\n",
    "    \"auth_strict_key\": False,\n",
    "    \"on_close\": show_int\n",
    "}\n",
    "\n",
    "with IOSXEDriver(**my_device) as conn:\n",
    "    print(conn.get_prompt())"
   ]
  },
  {
   "cell_type": "code",
   "execution_count": null,
   "metadata": {},
   "outputs": [],
   "source": [
    "# Logging\n",
    "import logging\n",
    "from scrapli.driver.core import IOSXEDriver\n",
    "\n",
    "logging.basicConfig(filename=\"scrapli.log\", level=logging.DEBUG)\n",
    "\n",
    "device = {\n",
    "    \"host\": \"10.10.20.47\",\n",
    "    \"auth_username\": \"developer\",\n",
    "    \"auth_password\": \"C1sco12345\",\n",
    "    \"auth_strict_key\": False,\n",
    "}\n",
    "\n",
    "conn = IOSXEDriver(**device)\n",
    "conn.open()\n",
    "print(conn.get_prompt())\n",
    "print(conn.send_command(\"show run | i hostname\").result)\n"
   ]
  },
  {
   "cell_type": "code",
   "execution_count": null,
   "metadata": {},
   "outputs": [],
   "source": [
    "# Logging 2\n",
    "from scrapli import Scrapli\n",
    "from scrapli.logging import enable_basic_logging\n",
    "\n",
    "# the `enable_basic_logging` function accepts a bool or a string for the `file` argument -- if you\n",
    "# provide a string that string will be used as the output path for the log file, if you just pass\n",
    "# `True` as in this example, a file called \"scrapli.log\" will be created in your working directory\n",
    "enable_basic_logging(file=True, level=\"debug\")\n",
    "\n",
    "device = {\n",
    "   \"host\": \"10.10.20.48\",\n",
    "   \"auth_username\": \"developer\",\n",
    "   \"auth_password\": \"C1sco12345\",\n",
    "   \"auth_strict_key\": False,\n",
    "   \"platform\": \"cisco_iosxe\"\n",
    "}\n",
    "\n",
    "with Scrapli(**device) as conn:\n",
    "    print(conn.get_prompt())\n",
    "    print(conn.send_command(\"show run | i hostname\").result)"
   ]
  },
  {
   "cell_type": "code",
   "execution_count": null,
   "metadata": {},
   "outputs": [],
   "source": [
    "# motd banner\n",
    "from scrapli.driver.core import IOSXEDriver\n",
    "\n",
    "device = {\n",
    "   \"host\": \"10.10.20.48\",\n",
    "   \"auth_username\": \"developer\",\n",
    "   \"auth_password\": \"C1sco12345\",\n",
    "   \"auth_strict_key\": False,\n",
    "}\n",
    "\n",
    "\n",
    "conn = IOSXEDriver(**device)\n",
    "conn.open()\n",
    "\n",
    "my_banner = \"\"\"banner motd ^\n",
    "Configured via Scrapli!\n",
    "^\n",
    "\"\"\"\n",
    "# Because the banner \"input mode\" is basically like a text editor where we dont get the prompt\n",
    "# printed out between sending lines of banner config we need to use the `eager` mode to force\n",
    "# scrapli to blindly send the banner/macro lines without looking for the prompt in between each\n",
    "# line. You should *not* use eager unless you need to and know what you are doing as it\n",
    "# basically disables one of the core features that makes scrapli reliable!\n",
    "result = conn.send_config(config=my_banner, eager=True)\n",
    "print(result.result)"
   ]
  }
 ],
 "metadata": {
  "kernelspec": {
   "display_name": ".venv",
   "language": "python",
   "name": "python3"
  },
  "language_info": {
   "codemirror_mode": {
    "name": "ipython",
    "version": 3
   },
   "file_extension": ".py",
   "mimetype": "text/x-python",
   "name": "python",
   "nbconvert_exporter": "python",
   "pygments_lexer": "ipython3",
   "version": "3.10.12"
  }
 },
 "nbformat": 4,
 "nbformat_minor": 2
}
